{
 "cells": [
  {
   "cell_type": "code",
   "execution_count": 1,
   "metadata": {},
   "outputs": [],
   "source": [
    "import pandas as pd\n",
    "import numpy as np\n",
    "import os\n",
    "import matplotlib.pyplot as plt\n",
    "from sklearn.utils import shuffle"
   ]
  },
  {
   "cell_type": "markdown",
   "metadata": {},
   "source": [
    "### Reading the Log File"
   ]
  },
  {
   "cell_type": "code",
   "execution_count": 2,
   "metadata": {},
   "outputs": [
    {
     "data": {
      "text/html": [
       "<div>\n",
       "<style scoped>\n",
       "    .dataframe tbody tr th:only-of-type {\n",
       "        vertical-align: middle;\n",
       "    }\n",
       "\n",
       "    .dataframe tbody tr th {\n",
       "        vertical-align: top;\n",
       "    }\n",
       "\n",
       "    .dataframe thead th {\n",
       "        text-align: right;\n",
       "    }\n",
       "</style>\n",
       "<table border=\"1\" class=\"dataframe\">\n",
       "  <thead>\n",
       "    <tr style=\"text-align: right;\">\n",
       "      <th></th>\n",
       "      <th>Center</th>\n",
       "      <th>Steering</th>\n",
       "      <th>Throttle</th>\n",
       "      <th>Brake</th>\n",
       "      <th>Speed</th>\n",
       "    </tr>\n",
       "  </thead>\n",
       "  <tbody>\n",
       "    <tr>\n",
       "      <th>0</th>\n",
       "      <td>center_2021_03_16_17_13_49_883.jpg</td>\n",
       "      <td>0.00</td>\n",
       "      <td>1.0</td>\n",
       "      <td>0</td>\n",
       "      <td>11.53841</td>\n",
       "    </tr>\n",
       "    <tr>\n",
       "      <th>1</th>\n",
       "      <td>center_2021_03_16_17_13_49_956.jpg</td>\n",
       "      <td>0.00</td>\n",
       "      <td>1.0</td>\n",
       "      <td>0</td>\n",
       "      <td>12.55821</td>\n",
       "    </tr>\n",
       "    <tr>\n",
       "      <th>2</th>\n",
       "      <td>center_2021_03_16_17_13_50_023.jpg</td>\n",
       "      <td>0.00</td>\n",
       "      <td>1.0</td>\n",
       "      <td>0</td>\n",
       "      <td>13.10373</td>\n",
       "    </tr>\n",
       "    <tr>\n",
       "      <th>3</th>\n",
       "      <td>center_2021_03_16_17_13_50_095.jpg</td>\n",
       "      <td>-0.15</td>\n",
       "      <td>1.0</td>\n",
       "      <td>0</td>\n",
       "      <td>14.21047</td>\n",
       "    </tr>\n",
       "    <tr>\n",
       "      <th>4</th>\n",
       "      <td>center_2021_03_16_17_13_50_166.jpg</td>\n",
       "      <td>-0.30</td>\n",
       "      <td>1.0</td>\n",
       "      <td>0</td>\n",
       "      <td>14.59783</td>\n",
       "    </tr>\n",
       "  </tbody>\n",
       "</table>\n",
       "</div>"
      ],
      "text/plain": [
       "                               Center  Steering  Throttle  Brake     Speed\n",
       "0  center_2021_03_16_17_13_49_883.jpg      0.00       1.0      0  11.53841\n",
       "1  center_2021_03_16_17_13_49_956.jpg      0.00       1.0      0  12.55821\n",
       "2  center_2021_03_16_17_13_50_023.jpg      0.00       1.0      0  13.10373\n",
       "3  center_2021_03_16_17_13_50_095.jpg     -0.15       1.0      0  14.21047\n",
       "4  center_2021_03_16_17_13_50_166.jpg     -0.30       1.0      0  14.59783"
      ]
     },
     "execution_count": 2,
     "metadata": {},
     "output_type": "execute_result"
    }
   ],
   "source": [
    "coloms = ['Center','Steering','Throttle','Brake','Speed']\n",
    "data = pd.read_csv('Data/driving_log.csv',names= coloms)\n",
    "#data.head()\n",
    "#print(data['Center'][0])\n",
    "#print(data['Center'][0].split('\\\\')[-1])\n",
    "data['Center'] = data['Center'].apply(lambda x:x.split('\\\\')[-1])\n",
    "data.head()"
   ]
  },
  {
   "cell_type": "markdown",
   "metadata": {},
   "source": [
    "### Balance Steering Data in a certain Range"
   ]
  },
  {
   "cell_type": "code",
   "execution_count": 3,
   "metadata": {},
   "outputs": [
    {
     "name": "stdout",
     "output_type": "stream",
     "text": [
      "[-0.96774194 -0.90322581 -0.83870968 -0.77419355 -0.70967742 -0.64516129\n",
      " -0.58064516 -0.51612903 -0.4516129  -0.38709677 -0.32258065 -0.25806452\n",
      " -0.19354839 -0.12903226 -0.06451613  0.          0.06451613  0.12903226\n",
      "  0.19354839  0.25806452  0.32258065  0.38709677  0.4516129   0.51612903\n",
      "  0.58064516  0.64516129  0.70967742  0.77419355  0.83870968  0.90322581\n",
      "  0.96774194]\n"
     ]
    },
    {
     "data": {
      "image/png": "[encoded data removed]",
      "text/plain": [
       "<Figure size 432x288 with 1 Axes>"
      ]
     },
     "metadata": {
      "needs_background": "light"
     },
     "output_type": "display_data"
    }
   ],
   "source": [
    "nBins = 31\n",
    "sampleBins = 1500\n",
    "hist, bins = np.histogram(data['Steering'],nBins)\n",
    "#print(bins)\n",
    "#As the zero is not present in bins and most of the time our steering will be on zero degree\n",
    "centerPoint = (bins[:-1] + bins[1:])*0.5\n",
    "print(centerPoint)\n",
    "plt.bar(centerPoint,hist,width=0.05)\n",
    "plt.plot((-1,1),(sampleBins,sampleBins))\n",
    "plt.show()"
   ]
  },
  {
   "cell_type": "code",
   "execution_count": 4,
   "metadata": {},
   "outputs": [
    {
     "name": "stdout",
     "output_type": "stream",
     "text": [
      "Removed Images :  5145\n",
      "Remaining Images:  1605\n"
     ]
    }
   ],
   "source": [
    "#As we can see that the value zero is exceeding as compare to other values \n",
    "#So we are limiting 500 values from each bins\n",
    "removeIndex = []\n",
    "for i in range(nBins-1):\n",
    "    binDataList = []\n",
    "    for j in range(len(data['Steering'])):\n",
    "        if(data['Steering'][j] >= centerPoint[i] and data['Steering'][j] <= centerPoint[i+1]):\n",
    "            binDataList.append(j)\n",
    "    binDataList = shuffle(binDataList)\n",
    "    binDataList = binDataList[sampleBins:]\n",
    "    removeIndex.extend(binDataList)\n",
    "print(\"Removed Images : \",len(removeIndex))\n",
    "data.drop(data.index[removeIndex],inplace=True)\n",
    "print(\"Remaining Images: \",len(data))\n"
   ]
  },
  {
   "cell_type": "markdown",
   "metadata": {},
   "source": [
    "### Visualize the final data that we are going to use"
   ]
  },
  {
   "cell_type": "code",
   "execution_count": 5,
   "metadata": {},
   "outputs": [
    {
     "data": {
      "image/png": "[encoded data removed]",
      "text/plain": [
       "<Figure size 432x288 with 1 Axes>"
      ]
     },
     "metadata": {
      "needs_background": "light"
     },
     "output_type": "display_data"
    }
   ],
   "source": [
    "hist, _ = np.histogram(data['Steering'],nBins)\n",
    "plt.bar(centerPoint,hist,width = 0.05)\n",
    "\n",
    "plt.show()"
   ]
  },
  {
   "cell_type": "code",
   "execution_count": null,
   "metadata": {},
   "outputs": [],
   "source": []
  }
 ],
 "metadata": {
  "kernelspec": {
   "display_name": "Python 3",
   "language": "python",
   "name": "python3"
  },
  "language_info": {
   "codemirror_mode": {
    "name": "ipython",
    "version": 3
   },
   "file_extension": ".py",
   "mimetype": "text/x-python",
   "name": "python",
   "nbconvert_exporter": "python",
   "pygments_lexer": "ipython3",
   "version": "3.7.6"
  }
 },
 "nbformat": 4,
 "nbformat_minor": 4
}
